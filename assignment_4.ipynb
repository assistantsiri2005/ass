{
  "nbformat": 4,
  "nbformat_minor": 0,
  "metadata": {
    "colab": {
      "provenance": []
    },
    "kernelspec": {
      "name": "python3",
      "display_name": "Python 3"
    },
    "language_info": {
      "name": "python"
    }
  },
  "cells": [
    {
      "cell_type": "markdown",
      "source": [
        "# **Theory Questions**\n",
        "\n",
        "\n",
        "\n",
        "\n",
        "\n",
        "1. what is object-oriented programming(oop)?\n",
        "  -  object-oriented programming is a style of programming that orgainzes a program around objects instead of actions and data instead of logic .\n",
        "\n",
        "\n",
        "\n",
        "2. what is a class in oop?\n",
        "  -  A class in object-oriented programming is blueprint or templates for creating objects .\n",
        "\n",
        "\n",
        "\n",
        "3. what is an object in oop?\n",
        "   - An object is a real-world entity or instance of a class in Object-Oriented Programming (OOP).\n",
        "\n",
        "\n",
        "4. what is difference between abstraction and encapsulation?\n",
        "   - abstaction = hiding complex implmentation details and showing only essential features. To simplify complexity and focus on what an object does.\n",
        "   encapsulation = Wrapping data and methods into a single unit . To protect data and control how data is accessed.\n",
        "\n",
        "\n",
        "5. what are the dhunder methods in python?\n",
        "   -   “Dunder” means “Double Underscore.”\n",
        "   -  Used to define how objects of a     class behave with built-in operations (printing, addition, length, etc.).\n",
        "\n",
        "\n",
        "6. Explain the concept of inheritance in OOP?\n",
        "   -  Inheritance allows a new class (child class) to acquire the properties and behaviors of an existing class (parent class).\n",
        "\n",
        "7. What is polymorphism in OOP?\n",
        "   - Polymorphism means “many forms.”\n",
        "\n",
        "\n",
        "8. how is encapsulation achieved in python?\n",
        "    - Using classes to bundle data and methods.\n",
        "\n",
        "    - Using naming conventions (_, __) for access control.\n",
        "\n",
        "\n",
        "9. What is a constructor in Python?\n",
        "    - A constructor in Python is a special method used to initialize the object's state when it is created.    \n",
        "\n",
        "\n",
        "10. What are class and static methods in Python?\n",
        "    - Class Method:\n",
        "    - Declared with @classmethod decorator.\n",
        "\n",
        "    - Takes cls (class) as the first parameter.\n",
        "\n",
        "    - Can access and modify class variables.\n",
        "    - static method:\n",
        "    - Declared with @staticmethod decorator.\n",
        "    - Does not take self or cls.\n",
        "     - Cannot access class or instance variables directly.\n",
        "\n",
        "11. What is method overloading in Python?\n",
        "    - Method overloading means having multiple methods with the same name but different parameters.\n",
        "\n",
        "\n",
        "12. What is method overriding in OOP?\n",
        "    - Method overriding occurs when a child class defines a method with the same name as a method in its parent class.\n",
        "\n",
        "    - The child class method replaces the parent’s implementation.\n",
        "\n",
        "\n",
        "13. What is a property decorator in Python?\n",
        "    - @property is used to convert a method into a getter for an attribute.\n",
        "\n",
        "    - Helps in encapsulation while allowing attribute-like access.\n",
        "\n",
        "\n",
        "14. Why is polymorphism important in OOP?\n",
        "    - Polymorphism allows objects of different classes to be treated as objects of a common superclass, providing:\n",
        "\n",
        "    - Code flexibility and reusability.\n",
        "\n",
        "    - Ability to call the same method on different objects, leading to different behaviors.\n",
        "\n",
        "\n",
        "15. What is an abstract class in Python?\n",
        "    - An abstract class is a class that cannot be instantiated directly and may contain abstract methods.\n",
        "    - Used to define a common interface for subclasses.\n",
        "\n",
        "\n",
        "16. What are the advantages of OOP?\n",
        "    - Modularity: Code organized in classes.\n",
        "   -  Reusability: Code reuse via inheritance.\n",
        "   - Data hiding: Encapsulation protects data.\n",
        "   - Flexibility: Achieved through polymorphism.\n",
        "   -  Maintainability: Easier to maintain and modify.\n",
        "\n",
        "\n",
        "17. Difference between class variable and instance variable?\n",
        "   - class variable:\n",
        "  - class variable defined as class level.\n",
        "  - class variable shared by all instances.\n",
        "  - class variable accessed by class name .\n",
        "\n",
        "  - instance variable:\n",
        "  - instance variable defined in inside constructor.\n",
        "  - instance variable shraed by specific to each instance .\n",
        "\n",
        "\n",
        "18. What is multiple inheritance in Python?\n",
        "   -  class can inherit from more than one parent class.\n",
        "\n",
        "\n",
        "19. Purpose of __str__ and __repr__ methods in Python?\n",
        "   - __str__:\n",
        "  Defines the informal/pretty string representation of an object.\n",
        "  Called by print() and str().\n",
        "  - __repr__:\n",
        "  Defines the formal/official string representation of an object.\n",
        "  Called by repr(), and in the interactive shell.\n",
        "\n",
        "\n",
        "20. What is the significance of the super() function in Python?\n",
        "   -  super() is used to call methods of the parent (super) class in child classes.\n",
        "\n",
        "\n",
        "21.  What is the significance of the __del__ method in Python?\n",
        "  -  __del__ is the destructor method in Python.\n",
        "  - it is called automatically when an object is about to be destroyed (garbage collection).\n",
        "\n",
        "22. Difference between @staticmethod and @classmethod in Python?\n",
        "   - static method:\n",
        "   - static method has not any parameters.\n",
        "   - static method use utility functions related to the class.\n",
        "   - class method:\n",
        "   - class method has firest parameter is cls.\n",
        "   - class method factory motheods, modifying class state.\n",
        "\n",
        "23.  How does polymorphism work in Python with inheritance?\n",
        "   - Polymorphism allows the same method name to perform different behaviors in different classes.\n",
        "\n",
        "   - When using inheritance, a child class overrides a parent’s method to provide specific behavior.\n",
        "\n",
        "\n",
        "24. What is method chaining in Python OOP?\n",
        "   - multiple methods on the same object in a single line\n",
        "   - Each method returns self to allow the next method call on the same object.\n",
        "\n",
        "\n",
        "25. What is the purpose of the __call__ method in Python?\n",
        "   - __call__ allows an object to be called like a function.\n",
        "   - Add functionality to objects as if they are functions.\n",
        "\n",
        "   - Useful in creating function-like objects, decorators, or stateful callables."
      ],
      "metadata": {
        "id": "SBY0MQ66F0de"
      }
    },
    {
      "cell_type": "code",
      "source": [
        "#Create a parent class Animal with a method speak() that prints a generic message. Create a child class Dog\n",
        "#that overrides the speak() method to print \"Bark!\".\n",
        "\n",
        "\n",
        "class Animal:\n",
        "    def speak(self):\n",
        "        print(\"The animal makes a sound.\")\n",
        "\n",
        "class Dog(Animal):\n",
        "    def speak(self):\n",
        "        print(\"Bark!\")\n"
      ],
      "metadata": {
        "id": "BMTa4Y7knOss"
      },
      "execution_count": null,
      "outputs": []
    },
    {
      "cell_type": "code",
      "source": [
        "#Write a program to create an abstract class Shape with a method area(). Derive classes Circle and Rectangle\n",
        "#from it and implement the area() method in both.\n",
        "\n",
        "from abc import ABC, abstractmethod\n",
        "import math\n",
        "\n",
        "class Shape(ABC):\n",
        "    def area(self):\n",
        "        pass\n",
        "\n",
        "class Circle(Shape):\n",
        "    def __init__(self, radius):\n",
        "        self.radius = radius\n",
        "\n",
        "    def area(self):\n",
        "        return math.pi * self.radius ** 2\n",
        "class Rectangle(Shape):\n",
        "    def __init__(self, length, width):\n",
        "        self.length = length\n",
        "        self.width = width\n",
        "\n",
        "    def area(self):\n",
        "        return self.length * self.width\n",
        "\n",
        "\n"
      ],
      "metadata": {
        "id": "10M92MLOn7QQ"
      },
      "execution_count": null,
      "outputs": []
    },
    {
      "cell_type": "code",
      "source": [
        "#Implement a multi-level inheritance scenario where a class Vehicle has an attribute type. Derive a class Car\n",
        "#and further derive a class ElectricCar that adds a battery attribute.class Vehicle:\n",
        "\n",
        "class Vehicle:\n",
        "    def __init__(self, type):\n",
        "        self.type = type\n",
        "\n",
        "class Car(Vehicle):\n",
        "    def __init__(self, type, brand):\n",
        "        super().__init__(type)\n",
        "        self.brand = brand\n",
        "\n",
        "class ElectricCar(Car):\n",
        "    def __init__(self, type, brand, battery):\n",
        "        super().__init__(type, brand)\n",
        "        self.battery = battery\n",
        "\n",
        "\n"
      ],
      "metadata": {
        "id": "D2Iortuhn7bX"
      },
      "execution_count": null,
      "outputs": []
    },
    {
      "cell_type": "code",
      "source": [
        "#Demonstrate polymorphism by creating a base class Bird with a method fly(). Create two derived classes\n",
        "#Sparrow and Penguin that override the fly() method.\n",
        "\n",
        "\n",
        "class Bird:\n",
        "    def fly(self):\n",
        "        print(\"The bird flies in the sky.\")\n",
        "\n",
        "class Sparrow(Bird):\n",
        "    def fly(self):\n",
        "        print(\"Sparrow flies high.\")\n",
        "\n",
        "class Penguin(Bird):\n",
        "    def fly(self):\n",
        "        print(\"Penguins cannot fly.\")\n",
        "\n"
      ],
      "metadata": {
        "id": "8oDg0d03n7kw"
      },
      "execution_count": null,
      "outputs": []
    },
    {
      "cell_type": "code",
      "source": [
        "#Write a program to demonstrate encapsulation by creating a class BankAccount with private attributes\n",
        "#balance and methods to deposit, withdraw, and check balance.\n",
        "\n",
        "\n",
        "\n",
        "class BankAccount:\n",
        "    def __init__(self, balance=0):\n",
        "        self.__balance = balance\n",
        "\n",
        "    def deposit(self, amount):\n",
        "        if amount > 0:\n",
        "            self.__balance += amount\n",
        "            print(f\"Deposited: {amount}\")\n",
        "        else:\n",
        "            print(\"Invalid deposit amount.\")\n",
        "\n",
        "    def withdraw(self, amount):\n",
        "        if 0 < amount <= self.__balance:\n",
        "            self.__balance -= amount\n",
        "            print(f\"Withdrawn: {amount}\")\n",
        "        else:\n",
        "            print(\"Insufficient funds or invalid amount.\")\n",
        "\n",
        "    def check_balance(self):\n",
        "        print(f\"Current balance: {self.__balance}\")\n"
      ],
      "metadata": {
        "id": "AW-EIeRkpcgf"
      },
      "execution_count": null,
      "outputs": []
    },
    {
      "cell_type": "code",
      "source": [
        "#Write a program to demonstrate encapsulation by creating a class BankAccount with private attributes\n",
        "#balance and methods to deposit, withdraw, and check balance.\n",
        "\n",
        "\n",
        "class BankAccount:\n",
        "    def __init__(self, balance=0):\n",
        "        self.__balance = balance\n",
        "\n",
        "    def deposit(self, amount):\n",
        "        if amount > 0:\n",
        "            self.__balance += amount\n",
        "            print(f\"Deposited: {amount}\")\n",
        "        else:\n",
        "            print(\"Invalid deposit amount.\")\n",
        "\n",
        "    def withdraw(self, amount):\n",
        "        if 0 < amount <= self.__balance:\n",
        "            self.__balance -= amount\n",
        "            print(f\"Withdrawn: {amount}\")\n",
        "        else:\n",
        "            print(\"Insufficient funds or invalid amount.\")\n",
        "\n",
        "    def check_balance(self):\n",
        "        print(f\"Current balance: {self.__balance}\")"
      ],
      "metadata": {
        "id": "lA0UzQoOpcpA"
      },
      "execution_count": null,
      "outputs": []
    },
    {
      "cell_type": "code",
      "source": [
        "#Demonstrate runtime polymorphism using a method play() in a base class Instrument. Derive classes Guitar\n",
        "#and Piano that implement their own version of play().\n",
        "\n",
        "class Instrument:\n",
        "    def play(self):\n",
        "        print(\"The instrument makes a sound.\")\n",
        "\n",
        "class Guitar(Instrument):\n",
        "    def play(self):\n",
        "        print(\"Strumming the guitar.\")\n",
        "\n",
        "class Piano(Instrument):\n",
        "    def play(self):\n",
        "        print(\"Playing the piano.\")\n"
      ],
      "metadata": {
        "id": "xRhjcybppctI"
      },
      "execution_count": null,
      "outputs": []
    },
    {
      "cell_type": "code",
      "source": [
        "#Create a class MathOperations with a class method add_numbers() to add two numbers and a static\n",
        "#method subtract_numbers() to subtract two numbers.\n",
        "\n",
        "\n",
        "class MathOperations:\n",
        "    @classmethod\n",
        "    def add_numbers(cls, a, b):\n",
        "        return a + b\n",
        "\n",
        "    @staticmethod\n",
        "    def subtract_numbers(a, b):\n",
        "        return a - b\n",
        "\n"
      ],
      "metadata": {
        "id": "QMclK8oRrowJ"
      },
      "execution_count": null,
      "outputs": []
    },
    {
      "cell_type": "code",
      "source": [
        "# Implement a class Person with a class method to count the total number of persons created\n",
        "\n",
        "\n",
        "\n",
        "class Person:\n",
        "    count = 0\n",
        "\n",
        "    def __init__(self, name):\n",
        "        self.name = name\n",
        "        Person.count += 1\n",
        "\n",
        "    @classmethod\n",
        "    def total_persons(cls):\n",
        "        print(f\"Total persons created: {cls.count}\")\n",
        "\n",
        "\n"
      ],
      "metadata": {
        "id": "RjZ2sg-Lpcwy"
      },
      "execution_count": null,
      "outputs": []
    },
    {
      "cell_type": "code",
      "source": [
        "#Write a class Fraction with attributes numerator and denominator. Override the str method to display the\n",
        "#fraction as \"numerator/denominator\".\n",
        "\n",
        "class Fraction:\n",
        "    def __init__(self, numerator, denominator):\n",
        "        self.numerator = numerator\n",
        "        self.denominator = denominator\n",
        "\n",
        "    def __str__(self):\n",
        "        return f\"{self.numerator}/{self.denominator}\"\n",
        "\n"
      ],
      "metadata": {
        "id": "Qm76tJ44rAM2"
      },
      "execution_count": null,
      "outputs": []
    },
    {
      "cell_type": "code",
      "source": [
        "#Demonstrate operator overloading by creating a class Vector and overriding the add method to add two\n",
        "#vectors.\n",
        "\n",
        "class Vector:\n",
        "    def __init__(self, x, y):\n",
        "        self.x = x\n",
        "        self.y = y\n",
        "\n",
        "    def __add__(self, other):\n",
        "        return Vector(self.x + other.x, self.y + other.y)\n",
        "\n",
        "    def __str__(self):\n",
        "        return f\"Vector({self.x}, {self.y})\"\n",
        "\n"
      ],
      "metadata": {
        "id": "T5XoaPHOs1ta"
      },
      "execution_count": null,
      "outputs": []
    },
    {
      "cell_type": "code",
      "source": [
        "#Create a class Person with attributes name and age. Add a method greet() that prints \"Hello, my name is\n",
        "#{name} and I am {age} years old.\"\n",
        "\n",
        "\n",
        "class Person:\n",
        "    def __init__(self, name, age):\n",
        "        self.name = name\n",
        "        self.age = age\n",
        "\n",
        "    def greet(self):\n",
        "        print(f\"Hello, my name is {self.name} and I am {self.age} years old.\")\n"
      ],
      "metadata": {
        "id": "hf-5jj86rAZd"
      },
      "execution_count": null,
      "outputs": []
    },
    {
      "cell_type": "code",
      "source": [
        "#Implement a class Student with attributes name and grades. Create a method average_grade() to compute\n",
        "#the average of the grades.\n",
        "class Student:\n",
        "    def __init__(self, name, grades):\n",
        "        self.name = name\n",
        "        self.grades = grades\n",
        "\n",
        "    def average_grade(self):\n",
        "        return sum(self.grades) / len(self.grades)\n"
      ],
      "metadata": {
        "id": "R7EaIskIrAeb"
      },
      "execution_count": null,
      "outputs": []
    },
    {
      "cell_type": "code",
      "source": [
        "#Create a class Rectangle with methods set_dimensions() to set the dimensions and area() to calculate the\n",
        "#area.\n",
        "\n",
        "class Rectangle:\n",
        "    def set_dimensions(self, length, width):\n",
        "        self.length = length\n",
        "        self.width = width\n",
        "\n",
        "    def area(self):\n",
        "        return self.length * self.width\n"
      ],
      "metadata": {
        "id": "9EAsHjf7tGIQ"
      },
      "execution_count": null,
      "outputs": []
    },
    {
      "cell_type": "code",
      "source": [
        "#Create a class Employee with a method calculate_salary() that computes the salary based on hours worked\n",
        "#and hourly rate. Create a derived class Manager that adds a bonus to the salary.\n",
        "\n",
        "\n",
        "class Employee:\n",
        "    def __init__(self, hours_worked, hourly_rate):\n",
        "        self.hours_worked = hours_worked\n",
        "        self.hourly_rate = hourly_rate\n",
        "\n",
        "    def calculate_salary(self):\n",
        "        return self.hours_worked * self.hourly_rate\n",
        "\n",
        "class Manager(Employee):\n",
        "    def __init__(self, hours_worked, hourly_rate, bonus):\n",
        "        super().__init__(hours_worked, hourly_rate)\n",
        "        self.bonus = bonus\n",
        "\n",
        "    def calculate_salary(self):\n",
        "        return super().calculate_salary() + self.bonus\n",
        "\n"
      ],
      "metadata": {
        "id": "ueQEU9OstGR5"
      },
      "execution_count": null,
      "outputs": []
    },
    {
      "cell_type": "code",
      "source": [
        "#Create a class Product with attributes name, price, and quantity. Implement a method total_price() that\n",
        "#calculates the total price of the product.\n",
        "\n",
        "\n",
        "class Product:\n",
        "    def __init__(self, name, price, quantity):\n",
        "        self.name = name\n",
        "        self.price = price\n",
        "        self.quantity = quantity\n",
        "\n",
        "    def total_price(self):\n",
        "        return self.price * self.quantity\n",
        "\n"
      ],
      "metadata": {
        "id": "08vRIRtntGYn"
      },
      "execution_count": null,
      "outputs": []
    },
    {
      "cell_type": "code",
      "source": [
        "#Create a class Animal with an abstract method sound(). Create two derived classes Cow and Sheep that\n",
        "#implement the sound() method.\n",
        "\n",
        "\n",
        "from abc import ABC, abstractmethod\n",
        "\n",
        "class Animal(ABC):\n",
        "    @abstractmethod\n",
        "    def sound(self):\n",
        "        pass\n",
        "\n",
        "class Cow(Animal):\n",
        "    def sound(self):\n",
        "        print(\"Moo!\")\n",
        "\n",
        "class Sheep(Animal):\n",
        "    def sound(self):\n",
        "        print(\"Baa!\")"
      ],
      "metadata": {
        "id": "_M_KMdt7u57m"
      },
      "execution_count": null,
      "outputs": []
    },
    {
      "cell_type": "code",
      "source": [
        "#Create a class Book with attributes title, author, and year_published. Add a method get_book_info() that\n",
        "#returns a formatted string with the book's details.\n",
        "\n",
        "\n",
        "class Book:\n",
        "    def __init__(self, title, author, year_published):\n",
        "        self.title = title\n",
        "        self.author = author\n",
        "        self.year_published = year_published\n",
        "\n",
        "    def get_book_info(self):\n",
        "        return f\"'{self.title}' by {self.author}, published in {self.year_published}.\"\n"
      ],
      "metadata": {
        "id": "gHa9ZdaEu6Hc"
      },
      "execution_count": null,
      "outputs": []
    },
    {
      "cell_type": "code",
      "source": [
        "# Create a class House with attributes address and price. Create a derived class Mansion that adds an\n",
        "#attribute number_of_rooms.\n",
        "\n",
        "class House:\n",
        "    def __init__(self, address, price):\n",
        "        self.address = address\n",
        "        self.price = price\n",
        "\n",
        "    def display_info(self):\n",
        "        print(f\"House located at {self.address} is priced at Rs.{self.price}\")"
      ],
      "metadata": {
        "id": "9zpF1OmHvBeU"
      },
      "execution_count": null,
      "outputs": []
    }
  ]
}